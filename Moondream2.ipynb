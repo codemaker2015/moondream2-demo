{
  "nbformat": 4,
  "nbformat_minor": 0,
  "metadata": {
    "colab": {
      "provenance": [],
      "gpuType": "T4"
    },
    "kernelspec": {
      "name": "python3",
      "display_name": "Python 3"
    },
    "language_info": {
      "name": "python"
    },
    "accelerator": "GPU"
  },
  "cells": [
    {
      "cell_type": "code",
      "source": [
        "!pip install transformers timm einops"
      ],
      "metadata": {
        "colab": {
          "base_uri": "https://localhost:8080/"
        },
        "id": "t2zGo-8fWZUS",
        "outputId": "b400abaa-3411-4dc4-e541-f9b352cb868b"
      },
      "execution_count": 5,
      "outputs": [
        {
          "output_type": "stream",
          "name": "stdout",
          "text": [
            "Requirement already satisfied: transformers in /usr/local/lib/python3.10/dist-packages (4.44.2)\n",
            "Requirement already satisfied: timm in /usr/local/lib/python3.10/dist-packages (1.0.9)\n",
            "Requirement already satisfied: einops in /usr/local/lib/python3.10/dist-packages (0.8.0)\n",
            "Requirement already satisfied: filelock in /usr/local/lib/python3.10/dist-packages (from transformers) (3.16.1)\n",
            "Requirement already satisfied: huggingface-hub<1.0,>=0.23.2 in /usr/local/lib/python3.10/dist-packages (from transformers) (0.24.7)\n",
            "Requirement already satisfied: numpy>=1.17 in /usr/local/lib/python3.10/dist-packages (from transformers) (1.26.4)\n",
            "Requirement already satisfied: packaging>=20.0 in /usr/local/lib/python3.10/dist-packages (from transformers) (24.1)\n",
            "Requirement already satisfied: pyyaml>=5.1 in /usr/local/lib/python3.10/dist-packages (from transformers) (6.0.2)\n",
            "Requirement already satisfied: regex!=2019.12.17 in /usr/local/lib/python3.10/dist-packages (from transformers) (2024.9.11)\n",
            "Requirement already satisfied: requests in /usr/local/lib/python3.10/dist-packages (from transformers) (2.32.3)\n",
            "Requirement already satisfied: safetensors>=0.4.1 in /usr/local/lib/python3.10/dist-packages (from transformers) (0.4.5)\n",
            "Requirement already satisfied: tokenizers<0.20,>=0.19 in /usr/local/lib/python3.10/dist-packages (from transformers) (0.19.1)\n",
            "Requirement already satisfied: tqdm>=4.27 in /usr/local/lib/python3.10/dist-packages (from transformers) (4.66.5)\n",
            "Requirement already satisfied: torch in /usr/local/lib/python3.10/dist-packages (from timm) (2.4.1+cu121)\n",
            "Requirement already satisfied: torchvision in /usr/local/lib/python3.10/dist-packages (from timm) (0.19.1+cu121)\n",
            "Requirement already satisfied: fsspec>=2023.5.0 in /usr/local/lib/python3.10/dist-packages (from huggingface-hub<1.0,>=0.23.2->transformers) (2024.6.1)\n",
            "Requirement already satisfied: typing-extensions>=3.7.4.3 in /usr/local/lib/python3.10/dist-packages (from huggingface-hub<1.0,>=0.23.2->transformers) (4.12.2)\n",
            "Requirement already satisfied: charset-normalizer<4,>=2 in /usr/local/lib/python3.10/dist-packages (from requests->transformers) (3.3.2)\n",
            "Requirement already satisfied: idna<4,>=2.5 in /usr/local/lib/python3.10/dist-packages (from requests->transformers) (3.10)\n",
            "Requirement already satisfied: urllib3<3,>=1.21.1 in /usr/local/lib/python3.10/dist-packages (from requests->transformers) (2.2.3)\n",
            "Requirement already satisfied: certifi>=2017.4.17 in /usr/local/lib/python3.10/dist-packages (from requests->transformers) (2024.8.30)\n",
            "Requirement already satisfied: sympy in /usr/local/lib/python3.10/dist-packages (from torch->timm) (1.13.3)\n",
            "Requirement already satisfied: networkx in /usr/local/lib/python3.10/dist-packages (from torch->timm) (3.3)\n",
            "Requirement already satisfied: jinja2 in /usr/local/lib/python3.10/dist-packages (from torch->timm) (3.1.4)\n",
            "Requirement already satisfied: pillow!=8.3.*,>=5.3.0 in /usr/local/lib/python3.10/dist-packages (from torchvision->timm) (10.4.0)\n",
            "Requirement already satisfied: MarkupSafe>=2.0 in /usr/local/lib/python3.10/dist-packages (from jinja2->torch->timm) (2.1.5)\n",
            "Requirement already satisfied: mpmath<1.4,>=1.1.0 in /usr/local/lib/python3.10/dist-packages (from sympy->torch->timm) (1.3.0)\n"
          ]
        }
      ]
    },
    {
      "cell_type": "code",
      "source": [
        "from transformers import AutoModelForCausalLM, AutoTokenizer\n",
        "from PIL import Image\n",
        "\n",
        "model_id = \"vikhyatk/moondream2\"\n",
        "revision = \"2024-08-26\"\n",
        "model = AutoModelForCausalLM.from_pretrained(\n",
        "    model_id, trust_remote_code=True, revision=revision\n",
        ")\n",
        "tokenizer = AutoTokenizer.from_pretrained(model_id, revision=revision)"
      ],
      "metadata": {
        "id": "5lT6XmzKXPr5"
      },
      "execution_count": 1,
      "outputs": []
    },
    {
      "cell_type": "markdown",
      "source": [
        "**1. Image Captioning (Image Description)**"
      ],
      "metadata": {
        "id": "CozIvePezar-"
      }
    },
    {
      "cell_type": "code",
      "source": [
        "from PIL import Image\n",
        "image = Image.open('street.jpg')\n",
        "\n",
        "enc_image = model.encode_image(image)\n",
        "input = \"Describe this image.\"\n",
        "output = model.answer_question(enc_image, input, tokenizer)\n",
        "print(f\"\\nInput: {input}\\nOutput: {output}\")"
      ],
      "metadata": {
        "colab": {
          "base_uri": "https://localhost:8080/"
        },
        "id": "hU_5nyLUZFxX",
        "outputId": "7c556de7-33bd-4b36-b99d-b8aa21118df6"
      },
      "execution_count": 2,
      "outputs": [
        {
          "output_type": "stream",
          "name": "stdout",
          "text": [
            "\n",
            "Input: Describe this image.\n",
            "Output: The image captures a bustling street scene in London, featuring iconic red double-decker buses and the famous Big Ben clock tower in the background.\n"
          ]
        }
      ]
    },
    {
      "cell_type": "markdown",
      "source": [
        "**2. Visual Question-Answering (Visual Conversation)**"
      ],
      "metadata": {
        "id": "sXhQyZTkzhW3"
      }
    },
    {
      "cell_type": "code",
      "source": [
        "image = Image.open('cats.jpg')\n",
        "enc_image = model.encode_image(image)\n",
        "input = \"How many cats the girl is holding?\"\n",
        "output = model.answer_question(enc_image, input, tokenizer)\n",
        "print(f\"\\nInput: {input}\\nOutput: {output}\")\n",
        "input = \"What is their color?\"\n",
        "output = model.answer_question(enc_image, input, tokenizer)\n",
        "print(f\"\\nInput: {input}\\nOutput: {output}\")"
      ],
      "metadata": {
        "colab": {
          "base_uri": "https://localhost:8080/"
        },
        "id": "jmSWr__zfkz8",
        "outputId": "9cb5a71c-ca2f-491a-a9c6-c499a701273a"
      },
      "execution_count": 4,
      "outputs": [
        {
          "output_type": "stream",
          "name": "stdout",
          "text": [
            "\n",
            "Input: How many cats the girl is holding?\n",
            "Output: The girl is holding two cats.\n",
            "\n",
            "Input: What is their color?\n",
            "Output: The kittens are brown and white in color.\n"
          ]
        }
      ]
    },
    {
      "cell_type": "markdown",
      "source": [
        "**3. Visual Knowledge Reasoning**"
      ],
      "metadata": {
        "id": "-GnGiI6Zz1R3"
      }
    },
    {
      "cell_type": "code",
      "source": [
        "image = Image.open('tajmahal.jpg')\n",
        "enc_image = model.encode_image(image)\n",
        "input = \"Tell about the history of this place\"\n",
        "output = model.answer_question(enc_image, input, tokenizer)\n",
        "print(f\"\\nInput: {input}\\nOutput: {output}\")"
      ],
      "metadata": {
        "colab": {
          "base_uri": "https://localhost:8080/"
        },
        "id": "cKEeiTpFnY0O",
        "outputId": "a285ae8b-982e-4108-eb4f-e812cfba4b7a"
      },
      "execution_count": 5,
      "outputs": [
        {
          "output_type": "stream",
          "name": "stdout",
          "text": [
            "\n",
            "Input: Tell about the history of this place\n",
            "Output: The image shows the Taj Mahal, a famous white marble mausoleum located in Agra, India. It was built by the Mughal Emperor Shah Jahan in memory of his wife Mumtaz Mahal. The Taj Mahal is an iconic symbol of love and architectural prowess, and it has become a popular tourist destination. The mausoleum is surrounded by a large garden with a reflecting pool, which adds to its beauty and grandeur. The image captures the Taj Mahal from a distance, showcasing its impressive size and intricate design.\n"
          ]
        }
      ]
    },
    {
      "cell_type": "markdown",
      "source": [
        "**4. Visual Contextual Understanding**"
      ],
      "metadata": {
        "id": "ymWkqD8k0Ek0"
      }
    },
    {
      "cell_type": "code",
      "source": [
        "image = Image.open('boy_playing_with_pet.jpg')\n",
        "enc_image = model.encode_image(image)\n",
        "input = \"How does the boy feel and why?\"\n",
        "output = model.answer_question(enc_image, input, tokenizer)\n",
        "print(f\"\\nInput: {input}\\nOutput: {output}\")"
      ],
      "metadata": {
        "colab": {
          "base_uri": "https://localhost:8080/"
        },
        "id": "Myh0jrypnoI2",
        "outputId": "ad370956-2ec4-43b1-cbf7-260bc293185a"
      },
      "execution_count": 6,
      "outputs": [
        {
          "output_type": "stream",
          "name": "stdout",
          "text": [
            "\n",
            "Input: How does the boy feel and why?\n",
            "Output: The boy feels happy and content because he is enjoying a fun and engaging activity with his dog. In the image, the boy is running and playing with a yellow dog, throwing a ball for it to fetch. This activity allows the boy to bond with his dog, exercise, and have a good time. Playing with a dog is known to release endorphins, which are chemicals in the brain that contribute to feelings of happiness and well-being. The boy's smile and the dog's excitement indicate that they are both enjoying the moment and having a positive experience together.\n"
          ]
        }
      ]
    },
    {
      "cell_type": "markdown",
      "source": [
        "**5. Text Recognition**"
      ],
      "metadata": {
        "id": "lowx1O7a0OD6"
      }
    },
    {
      "cell_type": "code",
      "source": [
        "image = Image.open('written_quote.jpg')\n",
        "enc_image = model.encode_image(image)\n",
        "input = \"What's written on this piece of paper?\"\n",
        "output = model.answer_question(enc_image, input, tokenizer)\n",
        "print(f\"\\nInput: {input}\\nOutput: {output}\")"
      ],
      "metadata": {
        "colab": {
          "base_uri": "https://localhost:8080/"
        },
        "id": "ieMmalvvn_L1",
        "outputId": "bfafe22f-c2cf-41fb-872a-ebe471223638"
      },
      "execution_count": 7,
      "outputs": [
        {
          "output_type": "stream",
          "name": "stdout",
          "text": [
            "\n",
            "Input: What's written on this piece of paper?\n",
            "Output: The handwritten quote says, \"The future depends on what you do today. Mahatma Gandhi.\"\n"
          ]
        }
      ]
    }
  ]
}